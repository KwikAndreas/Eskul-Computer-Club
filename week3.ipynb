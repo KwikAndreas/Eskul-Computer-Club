{
 "cells": [
  {
   "cell_type": "markdown",
   "id": "299b91b7",
   "metadata": {},
   "source": [
    "# 📚 PERTEMUAN 3: KONDISI DAN PENGAMBILAN KEPUTUSAN\n",
    "\n",
    "## Selamat datang di pelajaran ke-3! 🎉\n",
    "\n",
    "Hari ini kita akan belajar tentang **kondisi** dan **pengambilan keputusan** - bagaimana membuat program yang bisa \"berpikir\"!"
   ]
  },
  {
   "cell_type": "code",
   "execution_count": null,
   "id": "c0bfac4a",
   "metadata": {},
   "outputs": [],
   "source": [
    "print(\"Selamat datang di pelajaran ke-3!\")\n",
    "print(\"Hari ini kita akan belajar tentang kondisi dan pengambilan keputusan\")\n",
    "\n",
    "print(\"\\n=== Apa itu Kondisi? ===\")\n",
    "print(\"Kondisi membantu program mengambil keputusan\")\n",
    "print(\"Seperti: 'Jika hujan, maka bawa payung'\")\n",
    "\n",
    "print(\"\\n=== Mari Buat Program Sederhana ===\")\n",
    "\n",
    "# Mengumpulkan data siswa\n",
    "nama = input(\"Masukkan nama kamu: \")\n",
    "umur = int(input(\"Berapa umur kamu? \"))\n",
    "\n",
    "print(f\"\\nHalo {nama}!\")"
   ]
  },
  {
   "cell_type": "markdown",
   "id": "f3cf4048",
   "metadata": {},
   "source": [
    "## 🤔 Contoh 1: Menentukan Kategori Umur\n",
    "\n",
    "Mari belajar menggunakan `if`, `elif`, dan `else` untuk menentukan kategori umur:"
   ]
  },
  {
   "cell_type": "code",
   "execution_count": null,
   "id": "78288942",
   "metadata": {},
   "outputs": [],
   "source": [
    "print(\"=\" * 50)\n",
    "print(\"CONTOH 1: MENENTUKAN KATEGORI UMUR\")\n",
    "print(\"=\" * 50)\n",
    "\n",
    "umur = 14  # Contoh umur\n",
    "\n",
    "if umur >= 13:\n",
    "    kategori = \"Remaja\"\n",
    "elif umur >= 6:\n",
    "    kategori = \"Anak-anak\"\n",
    "else:\n",
    "    kategori = \"Balita\"\n",
    "\n",
    "print(f\"Umur {umur} tahun, jadi kamu termasuk kategori: {kategori}\")\n",
    "\n",
    "# Coba dengan umur yang berbeda:\n",
    "for test_umur in [5, 8, 13, 17]:\n",
    "    if test_umur >= 13:\n",
    "        test_kategori = \"Remaja\"\n",
    "    elif test_umur >= 6:\n",
    "        test_kategori = \"Anak-anak\" \n",
    "    else:\n",
    "        test_kategori = \"Balita\"\n",
    "    print(f\"Umur {test_umur} tahun = {test_kategori}\")"
   ]
  },
  {
   "cell_type": "markdown",
   "id": "81cf2885",
   "metadata": {},
   "source": [
    "## 📊 Contoh 2: Sistem Penilaian\n",
    "\n",
    "Mari buat sistem yang menentukan grade berdasarkan nilai ujian:"
   ]
  },
  {
   "cell_type": "code",
   "execution_count": null,
   "id": "50a8ef69",
   "metadata": {},
   "outputs": [],
   "source": [
    "print(\"=\" * 50)\n",
    "print(\"CONTOH 2: SISTEM PENILAIAN\")\n",
    "print(\"=\" * 50)\n",
    "\n",
    "nilai = int(input(\"Masukkan nilai ujian kamu (0-100): \"))\n",
    "\n",
    "print(f\"Nilai kamu: {nilai}\")\n",
    "\n",
    "if nilai >= 90:\n",
    "    grade = \"A\"\n",
    "    keterangan = \"Excellent! Pertahankan!\"\n",
    "elif nilai >= 80:\n",
    "    grade = \"B\"\n",
    "    keterangan = \"Good job! Tingkatkan lagi!\"\n",
    "elif nilai >= 70:\n",
    "    grade = \"C\"\n",
    "    keterangan = \"Cukup baik, bisa lebih baik lagi!\"\n",
    "elif nilai >= 60:\n",
    "    grade = \"D\"\n",
    "    keterangan = \"Perlu belajar lebih giat!\"\n",
    "else:\n",
    "    grade = \"E\"\n",
    "    keterangan = \"Jangan menyerah, terus belajar!\"\n",
    "\n",
    "print(f\"Grade kamu: {grade}\")\n",
    "print(f\"Keterangan: {keterangan}\")"
   ]
  },
  {
   "cell_type": "markdown",
   "id": "3e1ef9bb",
   "metadata": {},
   "source": [
    "## 🧮 Contoh 3: Kalkulator Sederhana\n",
    "\n",
    "Mari buat kalkulator yang bisa melakukan operasi dasar:"
   ]
  },
  {
   "cell_type": "code",
   "execution_count": null,
   "id": "166a6a36",
   "metadata": {},
   "outputs": [],
   "source": [
    "print(\"=\" * 50)\n",
    "print(\"CONTOH 3: KALKULATOR SEDERHANA\")\n",
    "print(\"=\" * 50)\n",
    "\n",
    "print(\"Mari buat kalkulator sederhana!\")\n",
    "angka1 = float(input(\"Masukkan angka pertama: \"))\n",
    "operasi = input(\"Pilih operasi (+, -, *, /): \")\n",
    "angka2 = float(input(\"Masukkan angka kedua: \"))\n",
    "\n",
    "if operasi == \"+\":\n",
    "    hasil = angka1 + angka2\n",
    "elif operasi == \"-\":\n",
    "    hasil = angka1 - angka2\n",
    "elif operasi == \"*\":\n",
    "    hasil = angka1 * angka2\n",
    "elif operasi == \"/\":\n",
    "    if angka2 != 0:\n",
    "        hasil = angka1 / angka2\n",
    "    else:\n",
    "        hasil = \"Error: Tidak bisa dibagi dengan 0\"\n",
    "else:\n",
    "    hasil = \"Error: Operasi tidak valid\"\n",
    "\n",
    "print(f\"Hasil: {angka1} {operasi} {angka2} = {hasil}\")"
   ]
  },
  {
   "cell_type": "markdown",
   "id": "5923b684",
   "metadata": {},
   "source": [
    "## 🎯 Tugas untuk Kamu\n",
    "\n",
    "Sekarang saatnya berlatih membuat kondisi sendiri! Coba selesaikan tugas-tugas berikut:"
   ]
  },
  {
   "cell_type": "code",
   "execution_count": null,
   "id": "f6543c0f",
   "metadata": {},
   "outputs": [],
   "source": [
    "# Area untuk siswa berlatih:\n",
    "\n",
    "# TUGAS 1: Program Genap atau Ganjil\n",
    "print(\"=== TUGAS 1: GENAP ATAU GANJIL ===\")\n",
    "angka = int(input(\"Masukkan sebuah angka: \"))\n",
    "\n",
    "if angka % 2 == 0:\n",
    "    print(f\"{angka} adalah angka genap\")\n",
    "else:\n",
    "    print(f\"{angka} adalah angka ganjil\")\n",
    "\n",
    "# TUGAS 2: Menentukan Hari Sekolah atau Libur\n",
    "print(\"\\n=== TUGAS 2: HARI SEKOLAH ATAU LIBUR ===\")\n",
    "hari = input(\"Masukkan nama hari (contoh: senin): \").lower()\n",
    "\n",
    "if hari in [\"senin\", \"selasa\", \"rabu\", \"kamis\", \"jumat\"]:\n",
    "    print(\"Hari sekolah - jangan lupa bawa buku!\")\n",
    "elif hari in [\"sabtu\", \"minggu\"]:\n",
    "    print(\"Hari libur - selamat beristirahat!\")\n",
    "else:\n",
    "    print(\"Nama hari tidak valid\")\n",
    "\n",
    "# TUGAS 3: Coba buat sendiri!\n",
    "print(\"\\n=== TUGAS 3: LATIHAN MANDIRI ===\")\n",
    "print(\"Coba buat program untuk menentukan:\")\n",
    "print(\"1. Apakah seseorang bisa menonton film dewasa (umur >= 17)\")\n",
    "print(\"2. Menentukan kategori berat badan (kurus, normal, gemuk)\")\n",
    "print(\"3. Sistem diskon berdasarkan jumlah pembelian\")\n",
    "\n",
    "# Contoh jawaban tugas 3.1:\n",
    "umur_penonton = int(input(\"Masukkan umur: \"))\n",
    "if umur_penonton >= 17:\n",
    "    print(\"Boleh menonton film dewasa\")\n",
    "else:\n",
    "    print(\"Belum boleh menonton film dewasa\")"
   ]
  }
 ],
 "metadata": {
  "language_info": {
   "name": "python"
  }
 },
 "nbformat": 4,
 "nbformat_minor": 5
}
