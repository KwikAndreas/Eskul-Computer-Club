{
 "cells": [
  {
   "cell_type": "markdown",
   "id": "8efe841e",
   "metadata": {},
   "source": [
    "# 📚 PERTEMUAN 1: PENGENALAN PYTHON\n",
    "\n",
    "## Selamat datang di pelajaran Python! 🎉\n",
    "\n",
    "Hari ini kita akan mulai belajar pemrograman bersama-sama. Python adalah salah satu bahasa pemrograman yang paling mudah dipelajari untuk pemula."
   ]
  },
  {
   "cell_type": "code",
   "execution_count": null,
   "id": "ab675f1a",
   "metadata": {},
   "outputs": [],
   "source": [
    "print(\"Selamat datang di pelajaran Python!\")\n",
    "print(\"Mari kita mulai belajar pemrograman bersama-sama\")\n",
    "\n",
    "print(\"\\n=== Apa itu Python? ===\")\n",
    "print(\"Python adalah bahasa pemrograman yang mudah dipelajari\")\n",
    "print(\"Python digunakan untuk membuat website, aplikasi, dan banyak lagi!\")"
   ]
  },
  {
   "cell_type": "markdown",
   "id": "18e91e9a",
   "metadata": {},
   "source": [
    "## 🧠 Konsep Dasar Pemrograman\n",
    "\n",
    "Sebelum kita mulai coding, mari pahami konsep-konsep dasar ini:"
   ]
  },
  {
   "cell_type": "code",
   "execution_count": null,
   "id": "36cd4270",
   "metadata": {},
   "outputs": [],
   "source": [
    "print(\"=== Konsep Dasar Pemrograman ===\")\n",
    "\n",
    "print(\"💡 Apa itu pemrograman?\")\n",
    "print(\"   Pemrograman adalah cara berkomunikasi dengan komputer\")\n",
    "print(\"   Kita memberi instruksi kepada komputer untuk melakukan tugas tertentu\")\n",
    "\n",
    "print(\"\\n💡 Apa itu coding?\")\n",
    "print(\"   Coding adalah proses menulis kode/instruksi\")\n",
    "print(\"   Seperti menulis resep masakan, tapi untuk komputer!\")\n",
    "\n",
    "print(\"\\n💡 Apa itu algoritma?\")\n",
    "print(\"   Algoritma adalah langkah-langkah berurutan untuk menyelesaikan masalah\")\n",
    "print(\"   Contoh: langkah-langkah membuat mie instan\")"
   ]
  },
  {
   "cell_type": "markdown",
   "id": "93f59b1b",
   "metadata": {},
   "source": [
    "## 📝 Menggunakan Fungsi print()\n",
    "\n",
    "Fungsi `print()` adalah perintah paling dasar dalam Python. Fungsi ini digunakan untuk menampilkan teks di layar.\n",
    "\n",
    "**Format dasar:**\n",
    "```python\n",
    "print(\"Teks yang ingin ditampilkan\")\n",
    "```"
   ]
  },
  {
   "cell_type": "code",
   "execution_count": null,
   "id": "6430e303",
   "metadata": {},
   "outputs": [],
   "source": [
    "print(\"=\" * 50)\n",
    "print(\"LATIHAN 1: Perintah print()\")\n",
    "print(\"=\" * 50)\n",
    "\n",
    "print(\"Fungsi print() digunakan untuk menampilkan teks di layar\")\n",
    "print(\"Contoh: print('Halo Dunia!')\")\n",
    "\n",
    "# Coba jalankan beberapa contoh:\n",
    "print(\"Halo Dunia!\")\n",
    "print(\"Saya sedang belajar Python\")\n",
    "print(\"Python itu mudah dan menyenangkan!\")"
   ]
  },
  {
   "cell_type": "markdown",
   "id": "288f0ed8",
   "metadata": {},
   "source": [
    "## 🎯 Tugas Praktik untuk Kamu\n",
    "\n",
    "Sekarang giliran kamu untuk berlatih! Ikuti petunjuk di bawah ini:\n",
    "\n",
    "### 📝 Yang harus kamu lakukan:\n",
    "1. Tulis perintah `print()` untuk menampilkan nama kamu\n",
    "2. Tulis perintah `print()` untuk menampilkan hobi kamu  \n",
    "3. Coba ubah nama kamu menjadi huruf besar semua\n",
    "\n",
    "### 💡 Tips:\n",
    "- Gunakan tanda kutip untuk menulis teks: `print('NAMA KAMU')`\n",
    "- Untuk huruf besar, kamu bisa langsung mengetik dengan huruf kapital\n",
    "- Jangan lupa tanda kutip dan kurung tutup!"
   ]
  },
  {
   "cell_type": "code",
   "execution_count": null,
   "id": "1eace1e1",
   "metadata": {},
   "outputs": [],
   "source": [
    "# Area untuk siswa berlatih:\n",
    "# Tulis kode kamu di bawah ini:\n",
    "\n",
    "# 1. Tulis nama kamu:\n",
    "# print(\"NAMA_KAMU_DISINI\")\n",
    "\n",
    "# 2. Tulis hobi kamu:\n",
    "# print(\"HOBI_KAMU_DISINI\")\n",
    "\n",
    "# 3. Contoh dengan nama dalam huruf besar:\n",
    "# print(\"ALYA STUDENT\")\n",
    "\n",
    "# Sekarang coba kamu buat sendiri!"
   ]
  }
 ],
 "metadata": {
  "language_info": {
   "name": "python"
  }
 },
 "nbformat": 4,
 "nbformat_minor": 5
}
