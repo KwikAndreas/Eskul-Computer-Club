{
 "cells": [
  {
   "cell_type": "markdown",
   "id": "c98267d1",
   "metadata": {},
   "source": [
    "# 📚 PERTEMUAN 2: VARIABEL DAN TIPE DATA\n",
    "\n",
    "## Selamat datang di pelajaran ke-2! 🎉\n",
    "\n",
    "Hari ini kita akan belajar tentang **variabel** dan **tipe data** - konsep penting dalam pemrograman."
   ]
  },
  {
   "cell_type": "code",
   "execution_count": null,
   "id": "18765687",
   "metadata": {},
   "outputs": [],
   "source": [
    "print(\"Selamat datang di pelajaran ke-2!\")\n",
    "print(\"Hari ini kita akan belajar tentang variabel dan tipe data\")\n",
    "\n",
    "print(\"\\n=== Apa itu Variabel? ===\")\n",
    "print(\"Variabel adalah 'kotak' untuk menyimpan data\")\n",
    "print(\"Seperti loker sekolah yang bisa kita isi dengan barang-barang\")"
   ]
  },
  {
   "cell_type": "markdown",
   "id": "8b5d6b11",
   "metadata": {},
   "source": [
    "## 💬 Input dari Pengguna\n",
    "\n",
    "Kita bisa meminta pengguna memasukkan data dengan fungsi `input()`. Mari coba!"
   ]
  },
  {
   "cell_type": "code",
   "execution_count": null,
   "id": "6ac7da35",
   "metadata": {},
   "outputs": [],
   "source": [
    "# Mengumpulkan data dari siswa\n",
    "nama = input(\"Masukkan nama kamu: \")\n",
    "kelas = input(\"Masukkan kelas kamu (contoh: 7A): \")\n",
    "umur = input(\"Masukkan umur kamu: \")\n",
    "\n",
    "print(f\"\\nHalo {nama}!\")\n",
    "print(f\"Kamu dari kelas {kelas} dan berumur {umur} tahun\")"
   ]
  },
  {
   "cell_type": "markdown",
   "id": "0a635c0e",
   "metadata": {},
   "source": [
    "## 🧮 Konsep Penting: Tipe Data\n",
    "\n",
    "Python memiliki beberapa tipe data dasar:\n",
    "- **String (str)** - untuk teks\n",
    "- **Integer (int)** - untuk bilangan bulat\n",
    "- **Boolean (bool)** - untuk True/False\n",
    "\n",
    "Mari kita pelajari satu per satu!"
   ]
  },
  {
   "cell_type": "code",
   "execution_count": null,
   "id": "32f34c7f",
   "metadata": {},
   "outputs": [],
   "source": [
    "print(\"=\" * 50)\n",
    "print(\"KONSEP PENTING: TIPE DATA\")\n",
    "print(\"=\" * 50)\n",
    "\n",
    "print(\"\\n1. STRING (str) - untuk teks\")\n",
    "nama = \"Alya\"\n",
    "print(f\"   Nama: {nama}\")\n",
    "print(f\"   Tipe data: {type(nama)}\")\n",
    "\n",
    "print(\"\\n2. INTEGER (int) - untuk bilangan bulat\")\n",
    "print(\"   Tapi input() selalu menghasilkan string!\")\n",
    "print(\"   Kita perlu mengubahnya dengan int()\")\n",
    "\n",
    "umur_text = \"13\"  # dari input ini adalah string\n",
    "umur_angka = int(umur_text)  # mengubah ke integer\n",
    "print(f\"   Umur sebagai teks: {umur_text} (tipe: {type(umur_text)})\")\n",
    "print(f\"   Umur sebagai angka: {umur_angka} (tipe: {type(umur_angka)})\")\n",
    "\n",
    "print(\"\\n3. BOOLEAN (bool) - untuk True/False\")\n",
    "sudah_mengerjakan_pr = True\n",
    "print(f\"   Sudah mengerjakan PR: {sudah_mengerjakan_pr}\")\n",
    "print(f\"   Tipe data: {type(sudah_mengerjakan_pr)}\")"
   ]
  },
  {
   "cell_type": "markdown",
   "id": "e416fb15",
   "metadata": {},
   "source": [
    "## 🔢 Latihan Matematika Sederhana\n",
    "\n",
    "Mari belajar operasi matematika dasar dengan variabel!"
   ]
  },
  {
   "cell_type": "code",
   "execution_count": null,
   "id": "d54d9860",
   "metadata": {},
   "outputs": [],
   "source": [
    "print(\"=\" * 50)\n",
    "print(\"LATIHAN MATEMATIKA SEDERHANA\")\n",
    "print(\"=\" * 50)\n",
    "\n",
    "nilai_matematika = 85\n",
    "nilai_ipa = 90\n",
    "\n",
    "print(f\"Nilai Matematika: {nilai_matematika}\")\n",
    "print(f\"Nilai IPA: {nilai_ipa}\")\n",
    "\n",
    "rata_rata = (nilai_matematika + nilai_ipa) / 2\n",
    "print(f\"Nilai rata-rata: {rata_rata}\")"
   ]
  },
  {
   "cell_type": "markdown",
   "id": "149d643f",
   "metadata": {},
   "source": [
    "## 🎯 Tugas untuk Kamu\n",
    "\n",
    "Sekarang saatnya berlatih membuat variabel sendiri!"
   ]
  },
  {
   "cell_type": "code",
   "execution_count": null,
   "id": "b3cf8b95",
   "metadata": {},
   "outputs": [],
   "source": [
    "# Area untuk siswa berlatih:\n",
    "# Tulis kode kamu di bawah ini:\n",
    "\n",
    "# 1. Buat variabel untuk menyimpan mata pelajaran favorit\n",
    "# mata_pelajaran_favorit = \"...\"\n",
    "\n",
    "# 2. Buat variabel untuk menyimpan jumlah teman di kelas  \n",
    "# jumlah_teman = ...\n",
    "\n",
    "# 3. Tampilkan semua variabel yang sudah kamu buat\n",
    "# print(f\"Mata pelajaran favorit: {mata_pelajaran_favorit}\")\n",
    "# print(f\"Jumlah teman di kelas: {jumlah_teman}\")\n",
    "\n",
    "# Contoh jawaban:\n",
    "mata_pelajaran_favorit = \"Matematika\"\n",
    "jumlah_teman = 25\n",
    "\n",
    "print(f\"Mata pelajaran favorit: {mata_pelajaran_favorit}\")\n",
    "print(f\"Jumlah teman di kelas: {jumlah_teman}\")\n",
    "print(f\"Tipe data mata pelajaran: {type(mata_pelajaran_favorit)}\")\n",
    "print(f\"Tipe data jumlah teman: {type(jumlah_teman)}\")"
   ]
  }
 ],
 "metadata": {
  "language_info": {
   "name": "python"
  }
 },
 "nbformat": 4,
 "nbformat_minor": 5
}
